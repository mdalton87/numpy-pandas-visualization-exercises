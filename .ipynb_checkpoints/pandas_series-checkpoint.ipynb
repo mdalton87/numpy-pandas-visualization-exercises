{
 "cells": [
  {
   "cell_type": "code",
   "execution_count": 3,
   "metadata": {},
   "outputs": [],
   "source": [
    "import numpy as np\n",
    "import pandas as pd\n",
    "\n",
    "import matplotlib.pyplot as plt"
   ]
  },
  {
   "cell_type": "code",
   "execution_count": 4,
   "metadata": {},
   "outputs": [],
   "source": [
    "# Use pandas to create a Series from the following data:\n",
    "\n",
    "# Name the variable that holds the series fruits.\n",
    "\n",
    "data_fruit = [\"kiwi\", \"mango\", \"strawberry\", \"pineapple\", \"gala apple\", \"honeycrisp apple\", \"tomato\", \"watermelon\", \"honeydew\", \"kiwi\", \"kiwi\", \"kiwi\", \"mango\", \"blueberry\", \"blackberry\", \"gooseberry\", \"papaya\"]\n",
    "\n",
    "fruit_series = pd.Series(data_fruit)"
   ]
  },
  {
   "cell_type": "code",
   "execution_count": 5,
   "metadata": {},
   "outputs": [
    {
     "data": {
      "text/plain": [
       "count       17\n",
       "unique      13\n",
       "top       kiwi\n",
       "freq         4\n",
       "dtype: object"
      ]
     },
     "execution_count": 5,
     "metadata": {},
     "output_type": "execute_result"
    }
   ],
   "source": [
    "# Run .describe() on the series to see what describe returns for a series of strings.\n",
    "\n",
    "fruit_series.describe()"
   ]
  },
  {
   "cell_type": "code",
   "execution_count": 6,
   "metadata": {},
   "outputs": [
    {
     "data": {
      "text/plain": [
       "array(['kiwi', 'mango', 'strawberry', 'pineapple', 'gala apple',\n",
       "       'honeycrisp apple', 'tomato', 'watermelon', 'honeydew',\n",
       "       'blueberry', 'blackberry', 'gooseberry', 'papaya'], dtype=object)"
      ]
     },
     "execution_count": 6,
     "metadata": {},
     "output_type": "execute_result"
    }
   ],
   "source": [
    "# Run the code necessary to produce only the unique fruit names.\n",
    "\n",
    "fruit_series.unique()"
   ]
  },
  {
   "cell_type": "code",
   "execution_count": 7,
   "metadata": {},
   "outputs": [
    {
     "data": {
      "text/plain": [
       "kiwi                4\n",
       "mango               2\n",
       "honeycrisp apple    1\n",
       "papaya              1\n",
       "strawberry          1\n",
       "blackberry          1\n",
       "honeydew            1\n",
       "gooseberry          1\n",
       "tomato              1\n",
       "blueberry           1\n",
       "pineapple           1\n",
       "watermelon          1\n",
       "gala apple          1\n",
       "dtype: int64"
      ]
     },
     "execution_count": 7,
     "metadata": {},
     "output_type": "execute_result"
    }
   ],
   "source": [
    "# Determine how many times each value occurs in the series.\n",
    "\n",
    "fruit_series.value_counts()\n",
    "\n",
    "# Determine the most frequently occurring fruit name from the series.\n",
    "# Kiwi"
   ]
  },
  {
   "cell_type": "code",
   "execution_count": 8,
   "metadata": {},
   "outputs": [
    {
     "data": {
      "text/plain": [
       "honeycrisp apple    1\n",
       "papaya              1\n",
       "strawberry          1\n",
       "blackberry          1\n",
       "honeydew            1\n",
       "gooseberry          1\n",
       "tomato              1\n",
       "blueberry           1\n",
       "pineapple           1\n",
       "watermelon          1\n",
       "gala apple          1\n",
       "mango               2\n",
       "kiwi                4\n",
       "dtype: int64"
      ]
     },
     "execution_count": 8,
     "metadata": {},
     "output_type": "execute_result"
    }
   ],
   "source": [
    "# Determine the least frequently occurring fruit name from the series.\n",
    "\n",
    " \n",
    "fruit_series.value_counts().sort_values()\n"
   ]
  },
  {
   "cell_type": "code",
   "execution_count": 17,
   "metadata": {},
   "outputs": [
    {
     "data": {
      "text/plain": [
       "0      4\n",
       "1      5\n",
       "2     10\n",
       "3      9\n",
       "4     10\n",
       "5     16\n",
       "6      6\n",
       "7     10\n",
       "8      8\n",
       "9      4\n",
       "10     4\n",
       "11     4\n",
       "12     5\n",
       "13     9\n",
       "14    10\n",
       "15    10\n",
       "16     6\n",
       "dtype: int64"
      ]
     },
     "execution_count": 17,
     "metadata": {},
     "output_type": "execute_result"
    }
   ],
   "source": [
    "# Write the code to get the longest string from the fruits series.\n",
    "\n",
    "fruit_series.str.len()"
   ]
  },
  {
   "cell_type": "code",
   "execution_count": 11,
   "metadata": {},
   "outputs": [
    {
     "data": {
      "text/plain": [
       "'honeycrisp apple'"
      ]
     },
     "execution_count": 11,
     "metadata": {},
     "output_type": "execute_result"
    }
   ],
   "source": [
    "# Write the code to get the longest string from the fruits series.\n",
    "\n",
    "max(fruit_series, key=len)"
   ]
  },
  {
   "cell_type": "code",
   "execution_count": 19,
   "metadata": {},
   "outputs": [
    {
     "data": {
      "text/plain": [
       "1                mango\n",
       "2           strawberry\n",
       "3            pineapple\n",
       "4           gala apple\n",
       "5     honeycrisp apple\n",
       "6               tomato\n",
       "7           watermelon\n",
       "8             honeydew\n",
       "12               mango\n",
       "13           blueberry\n",
       "14          blackberry\n",
       "15          gooseberry\n",
       "16              papaya\n",
       "dtype: object"
      ]
     },
     "execution_count": 19,
     "metadata": {},
     "output_type": "execute_result"
    }
   ],
   "source": [
    "# Find the fruit(s) with 5 or more letters in the name.\n",
    "\n",
    "fruit_series[fruit_series.str.len() >= 5]"
   ]
  },
  {
   "cell_type": "code",
   "execution_count": 20,
   "metadata": {},
   "outputs": [
    {
     "data": {
      "text/plain": [
       "0                 Kiwi\n",
       "1                Mango\n",
       "2           Strawberry\n",
       "3            Pineapple\n",
       "4           Gala apple\n",
       "5     Honeycrisp apple\n",
       "6               Tomato\n",
       "7           Watermelon\n",
       "8             Honeydew\n",
       "9                 Kiwi\n",
       "10                Kiwi\n",
       "11                Kiwi\n",
       "12               Mango\n",
       "13           Blueberry\n",
       "14          Blackberry\n",
       "15          Gooseberry\n",
       "16              Papaya\n",
       "dtype: object"
      ]
     },
     "execution_count": 20,
     "metadata": {},
     "output_type": "execute_result"
    }
   ],
   "source": [
    "# Capitalize all the fruit strings in the series.\n",
    "\n",
    "fruit_series.str.capitalize()"
   ]
  },
  {
   "cell_type": "code",
   "execution_count": 21,
   "metadata": {},
   "outputs": [
    {
     "data": {
      "text/plain": [
       "0     0\n",
       "1     1\n",
       "2     1\n",
       "3     1\n",
       "4     3\n",
       "5     1\n",
       "6     1\n",
       "7     1\n",
       "8     0\n",
       "9     0\n",
       "10    0\n",
       "11    0\n",
       "12    1\n",
       "13    0\n",
       "14    1\n",
       "15    0\n",
       "16    3\n",
       "dtype: int64"
      ]
     },
     "execution_count": 21,
     "metadata": {},
     "output_type": "execute_result"
    }
   ],
   "source": [
    "# Count the letter \"a\" in all the fruits (use string vectorization)\n",
    "\n",
    "fruit_series.str.count('a')"
   ]
  },
  {
   "cell_type": "code",
   "execution_count": 22,
   "metadata": {},
   "outputs": [
    {
     "data": {
      "text/plain": [
       "0     2\n",
       "1     2\n",
       "2     2\n",
       "3     4\n",
       "4     4\n",
       "5     5\n",
       "6     3\n",
       "7     4\n",
       "8     3\n",
       "9     2\n",
       "10    2\n",
       "11    2\n",
       "12    2\n",
       "13    3\n",
       "14    2\n",
       "15    4\n",
       "16    3\n",
       "dtype: int64"
      ]
     },
     "execution_count": 22,
     "metadata": {},
     "output_type": "execute_result"
    }
   ],
   "source": [
    "# Output the number of vowels in each and every fruit.\n",
    "\n",
    "fruit_series.str.count(r'[aeiou]')"
   ]
  },
  {
   "cell_type": "code",
   "execution_count": 44,
   "metadata": {},
   "outputs": [
    {
     "data": {
      "text/plain": [
       "6         tomato\n",
       "15    gooseberry\n",
       "dtype: object"
      ]
     },
     "execution_count": 44,
     "metadata": {},
     "output_type": "execute_result"
    }
   ],
   "source": [
    "# Use the .apply method and a lambda function to find the fruit(s) containing two or more \"o\" letters in the name.\n",
    "\n",
    "fruit_series[fruit_series.apply(lambda row: row.count('o')) >= 2]"
   ]
  },
  {
   "cell_type": "code",
   "execution_count": 46,
   "metadata": {},
   "outputs": [
    {
     "data": {
      "text/plain": [
       "2     strawberry\n",
       "13     blueberry\n",
       "14    blackberry\n",
       "15    gooseberry\n",
       "dtype: object"
      ]
     },
     "execution_count": 46,
     "metadata": {},
     "output_type": "execute_result"
    }
   ],
   "source": [
    "# Write the code to get only the fruits containing \"berry\" in the name\n",
    "\n",
    "fruit_series[fruit_series.str.contains('berry')]"
   ]
  },
  {
   "cell_type": "code",
   "execution_count": 47,
   "metadata": {},
   "outputs": [
    {
     "data": {
      "text/plain": [
       "3           pineapple\n",
       "4          gala apple\n",
       "5    honeycrisp apple\n",
       "dtype: object"
      ]
     },
     "execution_count": 47,
     "metadata": {},
     "output_type": "execute_result"
    }
   ],
   "source": [
    "# Write the code to get only the fruits containing \"apple\" in the name\n",
    "\n",
    "fruit_series[fruit_series.str.contains('apple')]"
   ]
  },
  {
   "cell_type": "code",
   "execution_count": 48,
   "metadata": {},
   "outputs": [
    {
     "data": {
      "text/plain": [
       "'honeycrisp apple'"
      ]
     },
     "execution_count": 48,
     "metadata": {},
     "output_type": "execute_result"
    }
   ],
   "source": [
    "# Which fruit has the highest amount of vowels?\n",
    "\n",
    "fruit_series[fruit_series.str.count(r'[aeiou]').max()]"
   ]
  },
  {
   "cell_type": "code",
   "execution_count": 49,
   "metadata": {},
   "outputs": [],
   "source": [
    "# Use pandas to create a Series from the following data:\n",
    "\n",
    "data_money = ['$796,459.41', '$278.60', '$482,571.67', '$4,503,915.98', '$2,121,418.3', '$1,260,813.3', '$87,231.01', '$1,509,175.45', '$4,138,548.00', '$2,848,913.80', '$594,715.39', '$4,789,988.17', '$4,513,644.5', '$3,191,059.97', '$1,758,712.24', '$4,338,283.54', '$4,738,303.38', '$2,791,759.67', '$769,681.94', '$452,650.23']\n",
    "\n",
    "money_series = pd.Series(data_money)"
   ]
  },
  {
   "cell_type": "code",
   "execution_count": 50,
   "metadata": {},
   "outputs": [
    {
     "data": {
      "text/plain": [
       "pandas.core.series.Series"
      ]
     },
     "execution_count": 50,
     "metadata": {},
     "output_type": "execute_result"
    }
   ],
   "source": [
    "# What is the data type of the series?\n",
    "\n",
    "type(money_series)\n",
    "#pandas.core.series.Series"
   ]
  },
  {
   "cell_type": "code",
   "execution_count": 60,
   "metadata": {},
   "outputs": [],
   "source": [
    "# Use series operations to convert the series to a numeric data type.\n",
    "\n",
    "money_num_series = money_series.str.replace(\"$\",\"\").str.replace(\",\",\"\").astype(float)"
   ]
  },
  {
   "cell_type": "code",
   "execution_count": 61,
   "metadata": {},
   "outputs": [
    {
     "data": {
      "text/plain": [
       "(4789988.17, 278.6)"
      ]
     },
     "execution_count": 61,
     "metadata": {},
     "output_type": "execute_result"
    }
   ],
   "source": [
    "#What is the maximum value? The minimum?\n",
    "\n",
    "money_num_series.max(), money_num_series.min()"
   ]
  },
  {
   "cell_type": "code",
   "execution_count": 62,
   "metadata": {},
   "outputs": [
    {
     "data": {
      "text/plain": [
       "(-4511.111, 1197705.993]      7\n",
       "(3592560.778, 4789988.17]     6\n",
       "(1197705.993, 2395133.385]    4\n",
       "(2395133.385, 3592560.778]    3\n",
       "dtype: int64"
      ]
     },
     "execution_count": 62,
     "metadata": {},
     "output_type": "execute_result"
    }
   ],
   "source": [
    "# Bin the data into 4 equally sized intervals and show how many values fall into each bin.\n",
    "\n",
    "money_num_series.value_counts(bins = 4)"
   ]
  },
  {
   "cell_type": "code",
   "execution_count": 76,
   "metadata": {},
   "outputs": [
    {
     "data": {
      "image/png": "[encoded data removed]",
      "text/plain": [
       "<Figure size 432x288 with 1 Axes>"
      ]
     },
     "metadata": {
      "needs_background": "light"
     },
     "output_type": "display_data"
    }
   ],
   "source": [
    "# Plot a histogram of the data. Be sure to include a title and axis labels.\n",
    "\n",
    "# Est. new clean bin ranges \n",
    "bin_ranges = [0, 1200000, 2400000, 3600000, 5000000]\n",
    "\n",
    "# Labeled corresponding bins to new ranges above\n",
    "bin_names = ['\\$0 - $1.2M', '\\$1.2M - $2.4M', '\\$2.4M - $3.6M', '\\$3.6M - $5.0M']\n",
    "\n",
    "# cut data, applied bin ranges and labels to the bin, plotted horizontal histograph\n",
    "pd.cut(money_num_series, bins=bin_ranges, labels=bin_names).value_counts().plot.barh(color='green', width=1, ec='black')\n",
    "\n",
    "plt.title('Money Bins')\n",
    "plt.xlabel('Amount in bin')\n",
    "plt.ylabel('USD')\n",
    "\n",
    "# reorder y-axis of horizontal bar chart\n",
    "\n",
    "plt.show()"
   ]
  },
  {
   "cell_type": "code",
   "execution_count": 67,
   "metadata": {},
   "outputs": [],
   "source": [
    "# Use pandas to create a Series from the following exam scores:\n",
    "\n",
    "scores = [60, 86, 75, 62, 93, 71, 60, 83, 95, 78, 65, 72, 69, 81, 96, 80, 85, 92, 82, 78]\n",
    "\n",
    "exam_scores = pd.Series(scores)"
   ]
  },
  {
   "cell_type": "code",
   "execution_count": 68,
   "metadata": {},
   "outputs": [
    {
     "data": {
      "text/plain": [
       "count    20.000000\n",
       "mean     78.150000\n",
       "std      11.352139\n",
       "min      60.000000\n",
       "25%      70.500000\n",
       "50%      79.000000\n",
       "75%      85.250000\n",
       "max      96.000000\n",
       "dtype: float64"
      ]
     },
     "execution_count": 68,
     "metadata": {},
     "output_type": "execute_result"
    }
   ],
   "source": [
    "#What is the minimum exam score? The max, mean, median?\n",
    "\n",
    "exam_scores.describe()"
   ]
  },
  {
   "cell_type": "code",
   "execution_count": 69,
   "metadata": {},
   "outputs": [
    {
     "data": {
      "text/plain": [
       "F    2\n",
       "D    3\n",
       "C    6\n",
       "B    5\n",
       "A    4\n",
       "dtype: int64"
      ]
     },
     "execution_count": 69,
     "metadata": {},
     "output_type": "execute_result"
    }
   ],
   "source": [
    "#define bin edges\n",
    "bin_edges = [0, 60, 70, 80, 90, 100]\n",
    "\n",
    "# bin labels\n",
    "bin_labels = ['F', 'D', 'C', 'B', 'A']\n",
    "\n",
    "# CUT() to put everything in their bins and plot the graph\n",
    "pd.cut(exam_scores, bins=bin_edges, labels=bin_labels).value_counts().sort_index()"
   ]
  },
  {
   "cell_type": "code",
   "execution_count": 74,
   "metadata": {},
   "outputs": [
    {
     "data": {
      "image/png": "[encoded data removed]",
      "text/plain": [
       "<Figure size 432x288 with 1 Axes>"
      ]
     },
     "metadata": {
      "needs_background": "light"
     },
     "output_type": "display_data"
    }
   ],
   "source": [
    "# Plot a histogram of the scores.\n",
    "# Convert each of the numbers above into a letter grade. \n",
    "# For example, 86 should be a 'B' and 95 should be an 'A'.\n",
    "\n",
    "#define bin edges\n",
    "bin_edges = [0, 60, 70, 80, 90, 100]\n",
    "\n",
    "# bin labels\n",
    "bin_labels = ['F', 'D', 'C', 'B', 'A']\n",
    "\n",
    "# CUT() to put everything in their bins and plot the graph\n",
    "pd.cut(exam_scores, bins=bin_edges, labels=bin_labels).value_counts().sort_index().plot.bar(color='Green', width=.75, ec='black')\n",
    "\n",
    "\n",
    "plt.title('Exam Score Distribution')\n",
    "plt.xlabel('Letter Grade')\n",
    "plt.ylabel('Number of Students')\n",
    "\n",
    "plt.xticks(rotation='horizontal')\n",
    "plt.gca().invert_xaxis()\n",
    "\n",
    "plt.show()\n"
   ]
  },
  {
   "cell_type": "code",
   "execution_count": 75,
   "metadata": {},
   "outputs": [
    {
     "data": {
      "image/png": "[encoded data removed]",
      "text/plain": [
       "<Figure size 432x288 with 1 Axes>"
      ]
     },
     "metadata": {
      "needs_background": "light"
     },
     "output_type": "display_data"
    }
   ],
   "source": [
    "# Write the code necessary to implement a curve. \n",
    "# (I.e. that grade closest to 100 should be converted to a 100, \n",
    "# and that many points should be given to every other score as well.)\n",
    "\n",
    "curve = 100 - exam_scores.max()\n",
    "exam_scores_with_curve = exam_scores + curve\n",
    "\n",
    "# CUT() to put everything in their bins and plot the graph\n",
    "pd.cut(exam_scores_with_curve, bins=bin_edges, labels=bin_labels).value_counts().sort_index().plot.bar(color='Green', width=.75, ec='black')\n",
    "\n",
    "\n",
    "plt.title('Exam Scores with Curve Applied Distribution')\n",
    "plt.xlabel('Letter Grade')\n",
    "plt.ylabel('Number of Students')\n",
    "\n",
    "plt.xticks(rotation='horizontal')\n",
    "plt.gca().invert_xaxis()\n",
    "\n",
    "plt.show()\n"
   ]
  },
  {
   "cell_type": "code",
   "execution_count": 77,
   "metadata": {},
   "outputs": [],
   "source": [
    "# 4\n",
    "# Use pandas to create a Series from the following string:\n",
    "\n",
    "wtf = list('hnvidduckkqxwymbimkccexbkmqygkxoyndmcxnwqarhyffsjpsrabtjzsypmzadfavyrnndndvswreauxovncxtwzpwejilzjrmmbbgbyxvjtewqthafnbkqplarokkyydtubbmnexoypulzwfhqvckdpqtpoppzqrmcvhhpwgjwupgzhiofohawytlsiyecuproguy')\n",
    "\n",
    "string_series = pd.Series(wtf)"
   ]
  },
  {
   "cell_type": "code",
   "execution_count": 80,
   "metadata": {},
   "outputs": [
    {
     "data": {
      "text/plain": [
       "(13    y\n",
       " dtype: object,\n",
       " 4    d\n",
       " dtype: object)"
      ]
     },
     "execution_count": 80,
     "metadata": {},
     "output_type": "execute_result"
    }
   ],
   "source": [
    "# What is the most frequently occuring letter? Least frequently occuring?\n",
    "\n",
    "string_series[string_series.value_counts().nlargest(n=1, keep='all')], string_series[string_series.value_counts().nsmallest(n=1, keep='all')] "
   ]
  },
  {
   "cell_type": "code",
   "execution_count": 81,
   "metadata": {},
   "outputs": [
    {
     "data": {
      "text/plain": [
       "34"
      ]
     },
     "execution_count": 81,
     "metadata": {},
     "output_type": "execute_result"
    }
   ],
   "source": [
    "# How many vowels are in the list?\n",
    "\n",
    "sum(string_series.str.count(r'[aeiou]'))"
   ]
  },
  {
   "cell_type": "code",
   "execution_count": 82,
   "metadata": {},
   "outputs": [
    {
     "data": {
      "text/plain": [
       "166"
      ]
     },
     "execution_count": 82,
     "metadata": {},
     "output_type": "execute_result"
    }
   ],
   "source": [
    "# How many consonants are in the list?\n",
    "\n",
    "len(string_series) - sum(string_series.str.count(r'[aeiou]'))"
   ]
  },
  {
   "cell_type": "code",
   "execution_count": 83,
   "metadata": {},
   "outputs": [
    {
     "data": {
      "text/plain": [
       "0      H\n",
       "1      N\n",
       "2      V\n",
       "3      I\n",
       "4      D\n",
       "      ..\n",
       "195    R\n",
       "196    O\n",
       "197    G\n",
       "198    U\n",
       "199    Y\n",
       "Length: 200, dtype: object"
      ]
     },
     "execution_count": 83,
     "metadata": {},
     "output_type": "execute_result"
    }
   ],
   "source": [
    "# Create a series that has all of the same letters, but uppercased\n",
    "\n",
    "string_series.str.upper()"
   ]
  },
  {
   "cell_type": "code",
   "execution_count": 84,
   "metadata": {},
   "outputs": [
    {
     "data": {
      "image/png": "[encoded data removed]",
      "text/plain": [
       "<Figure size 432x288 with 1 Axes>"
      ]
     },
     "metadata": {
      "needs_background": "light"
     },
     "output_type": "display_data"
    }
   ],
   "source": [
    "# Create a bar plot of the frequencies of the 6 most frequently occuring letters.\n",
    "\n",
    "string_series.str.upper().value_counts().head(6).plot.bar()\n",
    "\n",
    "plt.title('Top 6 Letters and their Frequency')\n",
    "plt.xlabel('Letter')\n",
    "plt.ylabel('Frequency')\n",
    "\n",
    "plt.xticks(rotation='horizontal')\n",
    "\n",
    "plt.show()"
   ]
  },
  {
   "cell_type": "code",
   "execution_count": 85,
   "metadata": {},
   "outputs": [],
   "source": [
    "# 5. \n",
    "\n",
    "\n",
    "# 17 list comprehension problems in python\n",
    "\n",
    "fruits = ['mango', 'kiwi', 'strawberry', 'guava', 'pineapple', 'mandarin orange']\n",
    "\n",
    "numbers = [2, 3, 4, 5, 6, 7, 8, 9, 10, 11, 13, 17, 19, 23, 256, -8, -4, -2, 5, -9]\n",
    "\n",
    "pfruits = pd.Series(fruits)\n",
    "num_series = pd.Series(numbers)"
   ]
  },
  {
   "cell_type": "code",
   "execution_count": 86,
   "metadata": {},
   "outputs": [
    {
     "data": {
      "text/plain": [
       "0              MANGO\n",
       "1               KIWI\n",
       "2         STRAWBERRY\n",
       "3              GUAVA\n",
       "4          PINEAPPLE\n",
       "5    MANDARIN ORANGE\n",
       "dtype: object"
      ]
     },
     "execution_count": 86,
     "metadata": {},
     "output_type": "execute_result"
    }
   ],
   "source": [
    "# Exercise 1 - rewrite the above example code using list comprehension syntax. \n",
    "# Make a variable named uppercased_fruits to hold the output of the list comprehension. \n",
    "# Output should be ['MANGO', 'KIWI', etc...]\n",
    "\n",
    "pfruits.str.upper()"
   ]
  },
  {
   "cell_type": "code",
   "execution_count": 87,
   "metadata": {},
   "outputs": [
    {
     "data": {
      "text/plain": [
       "0              Mango\n",
       "1               Kiwi\n",
       "2         Strawberry\n",
       "3              Guava\n",
       "4          Pineapple\n",
       "5    Mandarin orange\n",
       "dtype: object"
      ]
     },
     "execution_count": 87,
     "metadata": {},
     "output_type": "execute_result"
    }
   ],
   "source": [
    "# Exercise 2 - create a variable named capitalized_fruits and use list comprehension syntax to produce output like ['Mango', 'Kiwi', 'Strawberry', etc...]\n",
    "\n",
    "pfruits.str.capitalize()"
   ]
  },
  {
   "cell_type": "code",
   "execution_count": 88,
   "metadata": {},
   "outputs": [
    {
     "data": {
      "text/plain": [
       "3              guava\n",
       "4          pineapple\n",
       "5    mandarin orange\n",
       "dtype: object"
      ]
     },
     "execution_count": 88,
     "metadata": {},
     "output_type": "execute_result"
    }
   ],
   "source": [
    "# Exercise 3 - Use a list comprehension to make a variable named fruits_with_more_than_two_vowels. Hint: You'll need a way to check if something is a vowel.\n",
    "\n",
    "pfruits[pfruits.str.count(r'[aeiou]') > 2]"
   ]
  },
  {
   "cell_type": "code",
   "execution_count": 89,
   "metadata": {},
   "outputs": [
    {
     "data": {
      "text/plain": [
       "0         mango\n",
       "1          kiwi\n",
       "2    strawberry\n",
       "dtype: object"
      ]
     },
     "execution_count": 89,
     "metadata": {},
     "output_type": "execute_result"
    }
   ],
   "source": [
    "# Exercise 4 - make a variable named fruits_with_only_two_vowels. The result should be ['mango', 'kiwi', 'strawberry']\n",
    "\n",
    "pfruits[pfruits.str.count(r'[aeiou]') == 2]"
   ]
  },
  {
   "cell_type": "code",
   "execution_count": 90,
   "metadata": {},
   "outputs": [
    {
     "data": {
      "text/plain": [
       "2         strawberry\n",
       "4          pineapple\n",
       "5    mandarin orange\n",
       "dtype: object"
      ]
     },
     "execution_count": 90,
     "metadata": {},
     "output_type": "execute_result"
    }
   ],
   "source": [
    "# Exercise 5 - make a list that contains each fruit with more than 5 characters\n",
    "\n",
    "pfruits[pfruits.str.len() > 5]"
   ]
  },
  {
   "cell_type": "code",
   "execution_count": 29,
   "metadata": {},
   "outputs": [
    {
     "data": {
      "text/plain": [
       "0    mango\n",
       "3    guava\n",
       "dtype: object"
      ]
     },
     "execution_count": 29,
     "metadata": {},
     "output_type": "execute_result"
    }
   ],
   "source": [
    "# Exercise 6 - make a list that contains each fruit with exactly 5 characters\n",
    "\n",
    "pfruits[pfruits.str.len() == 5]"
   ]
  },
  {
   "cell_type": "code",
   "execution_count": 30,
   "metadata": {},
   "outputs": [
    {
     "data": {
      "text/plain": [
       "1    kiwi\n",
       "dtype: object"
      ]
     },
     "execution_count": 30,
     "metadata": {},
     "output_type": "execute_result"
    }
   ],
   "source": [
    "# Exercise 7 - Make a list that contains fruits that have less than 5 characters\n",
    "\n",
    "pfruits[pfruits.str.len() < 5]"
   ]
  },
  {
   "cell_type": "code",
   "execution_count": 31,
   "metadata": {},
   "outputs": [
    {
     "data": {
      "text/plain": [
       "0     5\n",
       "1     4\n",
       "2    10\n",
       "3     5\n",
       "4     9\n",
       "5    15\n",
       "dtype: int64"
      ]
     },
     "execution_count": 31,
     "metadata": {},
     "output_type": "execute_result"
    }
   ],
   "source": [
    "# Exercise 8 - Make a list containing the number of characters in each fruit. Output would be [5, 4, 10, etc... ]\n",
    "\n",
    "pfruits.str.len()"
   ]
  },
  {
   "cell_type": "code",
   "execution_count": 32,
   "metadata": {},
   "outputs": [
    {
     "data": {
      "text/plain": [
       "0              mango\n",
       "2         strawberry\n",
       "3              guava\n",
       "4          pineapple\n",
       "5    mandarin orange\n",
       "dtype: object"
      ]
     },
     "execution_count": 32,
     "metadata": {},
     "output_type": "execute_result"
    }
   ],
   "source": [
    "# Exercise 9 - Make a variable named fruits_with_letter_a that contains a list of only the fruits that contain the letter \"a\"\n",
    "\n",
    "pfruits[pfruits.str.contains('a')]"
   ]
  },
  {
   "cell_type": "code",
   "execution_count": 33,
   "metadata": {},
   "outputs": [
    {
     "data": {
      "text/plain": [
       "0       2\n",
       "2       4\n",
       "4       6\n",
       "6       8\n",
       "8      10\n",
       "14    256\n",
       "15     -8\n",
       "16     -4\n",
       "17     -2\n",
       "dtype: int64"
      ]
     },
     "execution_count": 33,
     "metadata": {},
     "output_type": "execute_result"
    }
   ],
   "source": [
    "# Exercise 10 - Make a variable named even_numbers that holds only the even numbers \n",
    "\n",
    "num_series[num_series % 2 == 0]"
   ]
  },
  {
   "cell_type": "code",
   "execution_count": 34,
   "metadata": {},
   "outputs": [
    {
     "data": {
      "text/plain": [
       "1      3\n",
       "3      5\n",
       "5      7\n",
       "7      9\n",
       "9     11\n",
       "10    13\n",
       "11    17\n",
       "12    19\n",
       "13    23\n",
       "18     5\n",
       "19    -9\n",
       "dtype: int64"
      ]
     },
     "execution_count": 34,
     "metadata": {},
     "output_type": "execute_result"
    }
   ],
   "source": [
    "# Exercise 11 - Make a variable named odd_numbers that holds only the odd numbers\n",
    "\n",
    "num_series[num_series % 2 != 0]"
   ]
  },
  {
   "cell_type": "code",
   "execution_count": 35,
   "metadata": {},
   "outputs": [
    {
     "data": {
      "text/plain": [
       "0       2\n",
       "1       3\n",
       "2       4\n",
       "3       5\n",
       "4       6\n",
       "5       7\n",
       "6       8\n",
       "7       9\n",
       "8      10\n",
       "9      11\n",
       "10     13\n",
       "11     17\n",
       "12     19\n",
       "13     23\n",
       "14    256\n",
       "18      5\n",
       "dtype: int64"
      ]
     },
     "execution_count": 35,
     "metadata": {},
     "output_type": "execute_result"
    }
   ],
   "source": [
    "# Exercise 12 - Make a variable named positive_numbers that holds only the positive numbers\n",
    "\n",
    "num_series[num_series > 0]"
   ]
  },
  {
   "cell_type": "code",
   "execution_count": 36,
   "metadata": {},
   "outputs": [
    {
     "data": {
      "text/plain": [
       "15   -8\n",
       "16   -4\n",
       "17   -2\n",
       "19   -9\n",
       "dtype: int64"
      ]
     },
     "execution_count": 36,
     "metadata": {},
     "output_type": "execute_result"
    }
   ],
   "source": [
    "# Exercise 13 - Make a variable named negative_numbers that holds only the negative numbers\n",
    "\n",
    "num_series[num_series < 0]"
   ]
  },
  {
   "cell_type": "code",
   "execution_count": 37,
   "metadata": {},
   "outputs": [
    {
     "data": {
      "text/plain": [
       "8      10\n",
       "9      11\n",
       "10     13\n",
       "11     17\n",
       "12     19\n",
       "13     23\n",
       "14    256\n",
       "dtype: int64"
      ]
     },
     "execution_count": 37,
     "metadata": {},
     "output_type": "execute_result"
    }
   ],
   "source": [
    "# Exercise 14 - use a list comprehension w/ a conditional in order to produce a list of numbers with 2 or more numerals\n",
    "\n",
    "num_series[(num_series <= -10) | (num_series >= 10)]"
   ]
  },
  {
   "cell_type": "code",
   "execution_count": 38,
   "metadata": {},
   "outputs": [
    {
     "data": {
      "text/plain": [
       "0         4\n",
       "1         9\n",
       "2        16\n",
       "3        25\n",
       "4        36\n",
       "5        49\n",
       "6        64\n",
       "7        81\n",
       "8       100\n",
       "9       121\n",
       "10      169\n",
       "11      289\n",
       "12      361\n",
       "13      529\n",
       "14    65536\n",
       "15       64\n",
       "16       16\n",
       "17        4\n",
       "18       25\n",
       "19       81\n",
       "dtype: int64"
      ]
     },
     "execution_count": 38,
     "metadata": {},
     "output_type": "execute_result"
    }
   ],
   "source": [
    "# Exercise 15 - Make a variable named numbers_squared that contains the numbers list with each element squared. Output is [4, 9, 16, etc...]\n",
    "\n",
    "num_series ** 2"
   ]
  },
  {
   "cell_type": "code",
   "execution_count": 39,
   "metadata": {},
   "outputs": [
    {
     "data": {
      "text/plain": [
       "19   -9\n",
       "dtype: int64"
      ]
     },
     "execution_count": 39,
     "metadata": {},
     "output_type": "execute_result"
    }
   ],
   "source": [
    "# Exercise 16 - Make a variable named odd_negative_numbers that contains only the numbers that are both odd and negative.\n",
    "\n",
    "num_series[(num_series < 0) & (num_series % 2 != 0)]"
   ]
  },
  {
   "cell_type": "code",
   "execution_count": 40,
   "metadata": {},
   "outputs": [
    {
     "data": {
      "text/plain": [
       "0       7\n",
       "1       8\n",
       "2       9\n",
       "3      10\n",
       "4      11\n",
       "5      12\n",
       "6      13\n",
       "7      14\n",
       "8      15\n",
       "9      16\n",
       "10     18\n",
       "11     22\n",
       "12     24\n",
       "13     28\n",
       "14    261\n",
       "15     -3\n",
       "16      1\n",
       "17      3\n",
       "18     10\n",
       "19     -4\n",
       "dtype: int64"
      ]
     },
     "execution_count": 40,
     "metadata": {},
     "output_type": "execute_result"
    }
   ],
   "source": [
    "# Exercise 17 - Make a variable named numbers_plus_5. In it, return a list containing each number plus five. \n",
    "\n",
    "num_series + 5"
   ]
  },
  {
   "cell_type": "code",
   "execution_count": 41,
   "metadata": {},
   "outputs": [],
   "source": [
    "# # BONUS Make a variable named \"primes\" that is a list containing the prime numbers in the numbers list. \n",
    "# *Hint* you may want to make or find a helper function that determines if a given number is prime or not.\n",
    "\n",
    "def is_prime(n: int) -> bool:\n",
    "    \"\"\"Primality test using 6k+-1 optimization.\"\"\"\n",
    "    if n <= 3:\n",
    "        return n > 1\n",
    "    if n % 2 == 0 or n % 3 == 0:\n",
    "        return False\n",
    "    i = 5\n",
    "    while i ** 2 <= n:\n",
    "        if n % i == 0 or n % (i + 2) == 0:\n",
    "            return False\n",
    "        i += 6\n",
    "    return True"
   ]
  },
  {
   "cell_type": "code",
   "execution_count": 42,
   "metadata": {},
   "outputs": [
    {
     "data": {
      "text/plain": [
       "0      True\n",
       "1      True\n",
       "2     False\n",
       "3      True\n",
       "4     False\n",
       "5      True\n",
       "6     False\n",
       "7     False\n",
       "8     False\n",
       "9      True\n",
       "10     True\n",
       "11     True\n",
       "12     True\n",
       "13     True\n",
       "14    False\n",
       "15    False\n",
       "16    False\n",
       "17    False\n",
       "18     True\n",
       "19    False\n",
       "dtype: bool"
      ]
     },
     "execution_count": 42,
     "metadata": {},
     "output_type": "execute_result"
    }
   ],
   "source": [
    "num_series.apply(is_prime)"
   ]
  },
  {
   "cell_type": "code",
   "execution_count": 43,
   "metadata": {},
   "outputs": [
    {
     "data": {
      "text/plain": [
       "0      2\n",
       "1      3\n",
       "3      5\n",
       "5      7\n",
       "9     11\n",
       "10    13\n",
       "11    17\n",
       "12    19\n",
       "13    23\n",
       "18     5\n",
       "dtype: int64"
      ]
     },
     "execution_count": 43,
     "metadata": {},
     "output_type": "execute_result"
    }
   ],
   "source": [
    "num_series[num_series.apply(is_prime)]"
   ]
  },
  {
   "cell_type": "code",
   "execution_count": null,
   "metadata": {},
   "outputs": [],
   "source": []
  }
 ],
 "metadata": {
  "celltoolbar": "Raw Cell Format",
  "kernelspec": {
   "display_name": "Python 3",
   "language": "python",
   "name": "python3"
  },
  "language_info": {
   "codemirror_mode": {
    "name": "ipython",
    "version": 3
   },
   "file_extension": ".py",
   "mimetype": "text/x-python",
   "name": "python",
   "nbconvert_exporter": "python",
   "pygments_lexer": "ipython3",
   "version": "3.8.5"
  }
 },
 "nbformat": 4,
 "nbformat_minor": 4
}
