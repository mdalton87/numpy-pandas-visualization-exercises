{
 "cells": [
  {
   "cell_type": "code",
   "execution_count": 2,
   "metadata": {},
   "outputs": [],
   "source": [
    "import matplotlib.pyplot as plt\n",
    "import numpy as np\n",
    "import math"
   ]
  },
  {
   "cell_type": "markdown",
   "metadata": {},
   "source": [
    "5. Make a new Jupyter notebook named big_o_notation.ipynb\n",
    "\n",
    "- Title your chart \"Big O Notation\"\n",
    "- Label your x axis \"Elements\"\n",
    "- Label your y axis \"Operations\"\n",
    "- Label your curves or make a legend for the curves\n",
    "- Use LaTex notation where possible\n",
    "\n",
    "\n",
    "Curves to graph\n",
    "\n",
    "- y = 0x + 1 and label the curve \"O(1)\"\n",
    "- y =\n",
    "l\n",
    "o\n",
    "g\n",
    "(\n",
    "x\n",
    ")\n",
    " and label the curve \"O(log n)\"\n",
    "- y =\n",
    "x\n",
    " and label the curve \"O(n)\"\n",
    "- y =\n",
    "x\n",
    "∗\n",
    "l\n",
    "o\n",
    "g\n",
    "(\n",
    "x\n",
    ")\n",
    " and label it \"O(n log n)\"\n",
    "- y =\n",
    "x\n",
    "2\n",
    " and label it \"O(n^2)\"\n",
    "- y =\n",
    "2\n",
    "x\n",
    " and label it \"O(2^n)\"\n",
    "- y = \n",
    "n\n",
    "!\n",
    " and label it \"O(n!)\"\n",
    "- y =\n",
    "n\n",
    "n\n",
    " and label it \"O(n^n)\"\n",
    " "
   ]
  },
  {
   "cell_type": "code",
   "execution_count": 19,
   "metadata": {},
   "outputs": [
    {
     "name": "stderr",
     "output_type": "stream",
     "text": [
      "No handles with labels found to put in legend.\n"
     ]
    },
    {
     "data": {
      "image/png": "[encoded data removed]",
      "text/plain": [
       "<Figure size 432x288 with 8 Axes>"
      ]
     },
     "metadata": {
      "needs_background": "light"
     },
     "output_type": "display_data"
    }
   ],
   "source": [
    "plt.legend(loc = 'upper right')\n",
    "plt.xlabel('Elements')\n",
    "plt.ylabel('Operations')\n",
    "plt.title('Big O Notation')\n",
    "\n",
    "x = list(range(1, 100))  \n",
    "y1 = [0 * n + 1 for n in x]\n",
    "y2 = [math.log(n, 10) for n in x]\n",
    "y3 = [n for n in x]\n",
    "y4 = [n * math.log(n, 10) for n in x]\n",
    "y5 = [n ** 2 for n in x]\n",
    "y6 = [2 ** n for n in x]\n",
    "y7 = [math.factorial(n) for n in x]\n",
    "y8 = [n ** n for n in x]\n",
    "\n",
    "plt.subplot(481)\n",
    "plt.plot(x, y1)\n",
    "plt.title('O(1)')\n",
    "\n",
    "\n",
    "plt.subplot(482)\n",
    "plt.plot(x, y2)\n",
    "plt.title('O(log n)')\n",
    "          \n",
    "plt.subplot(483)\n",
    "plt.plot(x, y3)\n",
    "plt.title('O(n)')\n",
    "          \n",
    "plt.subplot(484)\n",
    "plt.plot(x, y4)\n",
    "plt.title('O(n log n)')\n",
    "          \n",
    "plt.subplot(485)\n",
    "plt.plot(x, y5)\n",
    "plt.title('O(n^2)')\n",
    "          \n",
    "plt.subplot(486)\n",
    "plt.plot(x, y6)\n",
    "plt.title('O(2^n)')\n",
    "        \n",
    "plt.subplot(487)\n",
    "plt.plot(x, y7)\n",
    "plt.title(\"O(n!)\")\n",
    "          \n",
    "plt.subplot(488)\n",
    "plt.plot(x, y8)\n",
    "plt.title('O(n^n)')\n",
    "          \n",
    "\n",
    "\n",
    "\n",
    "plt.show()"
   ]
  },
  {
   "cell_type": "code",
   "execution_count": null,
   "metadata": {},
   "outputs": [],
   "source": []
  },
  {
   "cell_type": "code",
   "execution_count": null,
   "metadata": {},
   "outputs": [],
   "source": []
  }
 ],
 "metadata": {
  "kernelspec": {
   "display_name": "Python 3",
   "language": "python",
   "name": "python3"
  },
  "language_info": {
   "codemirror_mode": {
    "name": "ipython",
    "version": 3
   },
   "file_extension": ".py",
   "mimetype": "text/x-python",
   "name": "python",
   "nbconvert_exporter": "python",
   "pygments_lexer": "ipython3",
   "version": "3.8.5"
  }
 },
 "nbformat": 4,
 "nbformat_minor": 4
}
